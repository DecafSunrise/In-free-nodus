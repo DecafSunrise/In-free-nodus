{
 "cells": [
  {
   "cell_type": "code",
   "execution_count": 16,
   "id": "8e2fa687",
   "metadata": {},
   "outputs": [],
   "source": [
    "from nlp_utils import *\n",
    "\n",
    "import networkx as nx\n",
    "\n",
    "from pyvis.network import Network\n",
    "\n",
    "from operator import itemgetter\n",
    "\n",
    "import matplotlib.pyplot as plt"
   ]
  },
  {
   "cell_type": "code",
   "execution_count": 6,
   "id": "a0b7c4f2",
   "metadata": {},
   "outputs": [],
   "source": [
    "def lowercase_text(input_text):\n",
    "    text = input_text.lower()\n",
    "    return text\n",
    "\n",
    "def normalize_whitespace(input_text):\n",
    "    text = re.sub(\"\\s+\",\" \",input_text)\n",
    "    return text\n",
    "\n",
    "\n",
    "def replace_html_tags(input_text):\n",
    "    return re.sub('<.*?>','',input_text)\n",
    "\n",
    "def remove_emails(input_text):\n",
    "    return re.sub(r'([a-z0-9+._-]+@[a-z0-9+._-]+\\.[a-z0-9+_-]+)',\"\", input_text)\n",
    "\n",
    "def remove_urls(input_text):\n",
    "    return re.sub(r'(http|https|ftp|ssh)://([\\w_-]+(?:(?:\\.[\\w_-]+)+))([\\w.,@?^=%&:/~+#-]*[\\w@?^=%&/~+#-])?', '' , input_text)\n",
    "\n",
    "def normalize_unicode(input_text):\n",
    "    return unicodedata.normalize('NFKD', input_text).encode('ascii', 'ignore').decode('utf-8', 'ignore')\n",
    "\n",
    "def replace_abbreviations(x):\n",
    "#     \"\"\"\n",
    "#     This is kind of dogsh*t; consider using the \"contractions\" package instead\n",
    "#     \"\"\"\n",
    "#     for key in abbreviations:\n",
    "#         if key in x:\n",
    "#             x = x.replace(key,abbreviations[key])\n",
    "\n",
    "    x = contractions.fix(x)\n",
    "\n",
    "    return x\n",
    "\n",
    "def get_just_words(doc):\n",
    "    return re.sub(r'[^\\w ]+', \"\", doc)\n",
    "\n",
    "def remove_stopwords(doc):\n",
    "    cleaned_doc = ' '.join([word for word in doc.split() if word not in english_stopwords])\n",
    "    cleaned_doc = re.sub(r\"(\\s[.]\\s)\", '. ', cleaned_doc)\n",
    "    cleaned_doc = re.sub(r\"(\\s[,]\\s)\", ', ', cleaned_doc)\n",
    "    cleaned_doc = re.sub(r\"(\\s[!]\\s)\", '! ', cleaned_doc)\n",
    "    cleaned_doc = re.sub(r\"(\\s[?]\\s)\", '? ', cleaned_doc)\n",
    "    \n",
    "    return cleaned_doc\n",
    "\n",
    "def lemmatize(doc):\n",
    "    return \" \".join([lemmatizer.lemmatize(word) for word in word_tokenize(doc)])"
   ]
  },
  {
   "cell_type": "code",
   "execution_count": 225,
   "id": "d49ada12",
   "metadata": {},
   "outputs": [],
   "source": [
    "def remove_footnotes(doc):\n",
    "    return re.sub(r\"\\[[\\d]{1,3}\\]\", \"\", doc)"
   ]
  },
  {
   "cell_type": "code",
   "execution_count": 226,
   "id": "7cae28df",
   "metadata": {},
   "outputs": [],
   "source": [
    "def clean_text(input_text):\n",
    "    \"\"\"\n",
    "    Infranodus proper uses a separate stage to remove stopwords after normalizing the text\n",
    "    \"\"\"\n",
    "    out_text = lowercase_text(input_text)\n",
    "    out_text = normalize_whitespace(out_text)\n",
    "    out_text = replace_html_tags(out_text)\n",
    "    out_text = remove_emails(out_text)\n",
    "    out_text = remove_urls(out_text)\n",
    "    out_text = normalize_unicode(out_text)\n",
    "    out_text = replace_abbreviations(out_text)\n",
    "    out_text = get_just_words(out_text)\n",
    "    out_text = remove_stopwords(out_text)\n",
    "    out_text = lemmatize(out_text)\n",
    "    out_text = remove_footnotes(out_text)\n",
    "    \n",
    "    return out_text"
   ]
  },
  {
   "cell_type": "code",
   "execution_count": 227,
   "id": "25b228a0",
   "metadata": {},
   "outputs": [],
   "source": [
    "def build_word_network(input_text):\n",
    "    G = nx.Graph()\n",
    "    for x in range(0, len(input_text.split())):\n",
    "        window = cleaned_text.split()[x:x+4]\n",
    "        if len(window) ==4:\n",
    "            G.add_edge(window[0], window[1], weight=3)\n",
    "            G.add_edge(window[0], window[2], weight=2)\n",
    "            G.add_edge(window[0], window[3], weight=1)\n",
    "\n",
    "            \n",
    "    ## Scale nodes by naive Degree\n",
    "    scale=2 # Scaling the size of the nodes by 10*degree\n",
    "    d = dict(G.degree)\n",
    "\n",
    "    #Updating dict\n",
    "    d.update((x, scale*y) for x, y in d.items())\n",
    "\n",
    "    #Setting up size attribute\n",
    "    nx.set_node_attributes(G,d,'size')\n",
    "    \n",
    "    return G\n",
    "\n",
    "def top_bet_cen(G, n):\n",
    "    bet_centrality = nx.betweenness_centrality(G, normalized = True, \n",
    "                                              endpoints = False)\n",
    "    return dict(sorted(bet_centrality.items(), key = itemgetter(1), reverse = True)[:n])\n",
    "\n",
    "def top_close_cen(G, n):\n",
    "    closeness_centrality = nx.closeness_centrality(G)\n",
    "    return dict(sorted(closeness_centrality.items(), key = itemgetter(1), reverse = True)[:n])\n",
    "\n",
    "def top_PR_cen(G, alpha=0.8, n=5):\n",
    "#     closeness_centrality = nx.closeness_centrality(G)\n",
    "    pr = nx.pagerank(G, alpha = 0.8)\n",
    "    return dict(sorted(pr.items(), key = itemgetter(1), reverse = True)[:n])"
   ]
  },
  {
   "cell_type": "code",
   "execution_count": 228,
   "id": "cf97d377",
   "metadata": {},
   "outputs": [],
   "source": [
    "def pyvis_from_nx(G):\n",
    "    nt = Network('1000px', '750px', notebook=True)\n",
    "    nt.from_nx(G)\n",
    "    \n",
    "    return nt"
   ]
  },
  {
   "cell_type": "code",
   "execution_count": 229,
   "id": "3429bb29",
   "metadata": {},
   "outputs": [
    {
     "data": {
      "text/plain": [
       "\"On 24 February 2022, Russia invaded Ukraine in a major escalation of the Russo-Ukrainian War, which began in 2014. The invasion has likely resulted in tens of thousands of deaths on both sides and caused Europe's largest refugee crisis since World War II, with an estimated 8 million people being displaced within the country by late May as well as 7.8 million Ukrainians fleeing the country as of 8 November 2022. Within five weeks of the invasion, Russia experienced its greatest emigration since the 1917 October Revolution. The invasion has also caused global food shortages.\""
      ]
     },
     "execution_count": 229,
     "metadata": {},
     "output_type": "execute_result"
    }
   ],
   "source": [
    "re.sub(r\"\\[[\\d]{1,3}\\]\", \"\", testtext)"
   ]
  },
  {
   "cell_type": "code",
   "execution_count": 2,
   "id": "0c1200d5",
   "metadata": {},
   "outputs": [],
   "source": [
    "testtext = \"\"\"The routing protocol is called SrcRR. There are two broadcasts used with the protocol. The first is periodic broadcasts used to determine a metric called ETX. These public broadcasts measure the probability that a packet between two nodes in radio contact reaches its destination. The second broadcast type is used to build up routing tables. A node 0 will broadcast that it wants to find a route to D. Then each node that receives the broadcast will add its id to the route and forward the packet. When node D receives a packet, it will reply back along the route that was found for that packet. Then node 0 can use this information to determine the best route using the ETX metrics and the route information returned from its query.\"\"\""
   ]
  },
  {
   "cell_type": "code",
   "execution_count": 235,
   "id": "29e64170",
   "metadata": {},
   "outputs": [
    {
     "name": "stdout",
     "output_type": "stream",
     "text": [
      "Local cdn resources have problems on chrome/safari when used in jupyter-notebook. \n"
     ]
    },
    {
     "data": {
      "text/html": [
       "\n",
       "        <iframe\n",
       "            width=\"750px\"\n",
       "            height=\"1000px\"\n",
       "            src=\"RUS UKR Invasion 2022.html\"\n",
       "            frameborder=\"0\"\n",
       "            allowfullscreen\n",
       "            \n",
       "        ></iframe>\n",
       "        "
      ],
      "text/plain": [
       "<IPython.lib.display.IFrame at 0x1b281d341f0>"
      ]
     },
     "execution_count": 235,
     "metadata": {},
     "output_type": "execute_result"
    }
   ],
   "source": [
    "testtext = \"\"\"On 24 February 2022, Russia invaded Ukraine in a major escalation of the Russo-Ukrainian War, which began in 2014. The invasion has likely resulted in tens of thousands of deaths on both sides and caused Europe's largest refugee crisis since World War II,[10][11] with an estimated 8 million people being displaced within the country by late May as well as 7.8 million Ukrainians fleeing the country as of 8 November 2022.[12][13][14][15] Within five weeks of the invasion, Russia experienced its greatest emigration since the 1917 October Revolution.[16] The invasion has also caused global food shortages.[17][18]\"\"\"\n",
    "\n",
    "cleaned_text = clean_text(testtext)\n",
    "G = build_word_network(cleaned_text)\n",
    "nt = pyvis_from_nx(G)\n",
    "nt.show('RUS UKR Invasion 2022.html')"
   ]
  },
  {
   "cell_type": "code",
   "execution_count": null,
   "id": "6d18a015",
   "metadata": {},
   "outputs": [],
   "source": []
  },
  {
   "cell_type": "code",
   "execution_count": 236,
   "id": "2ddbead7",
   "metadata": {},
   "outputs": [
    {
     "name": "stdout",
     "output_type": "stream",
     "text": [
      "Local cdn resources have problems on chrome/safari when used in jupyter-notebook. \n"
     ]
    },
    {
     "data": {
      "text/html": [
       "\n",
       "        <iframe\n",
       "            width=\"750px\"\n",
       "            height=\"1000px\"\n",
       "            src=\"Apollo 17.html\"\n",
       "            frameborder=\"0\"\n",
       "            allowfullscreen\n",
       "            \n",
       "        ></iframe>\n",
       "        "
      ],
      "text/plain": [
       "<IPython.lib.display.IFrame at 0x1b281d44550>"
      ]
     },
     "execution_count": 236,
     "metadata": {},
     "output_type": "execute_result"
    }
   ],
   "source": [
    "testtext = \"\"\"Apollo 17 (December 7–19, 1972) was the final mission of NASA's Apollo program, the most recent time humans have set foot on the Moon or traveled beyond low Earth orbit. Commander Gene Cernan and Lunar Module Pilot Harrison Schmitt walked on the Moon, while Command Module Pilot Ronald Evans orbited above. Schmitt was the only professional geologist to land on the Moon; he was selected in place of Joe Engle, as NASA had been under pressure to send a scientist to the Moon. The mission's heavy emphasis on science meant the inclusion of a number of new experiments, including a biological experiment containing five mice that was carried in the command module.\"\"\"\n",
    "\n",
    "cleaned_text = clean_text(testtext)\n",
    "\n",
    "G = build_word_network(cleaned_text)\n",
    "\n",
    "nt = pyvis_from_nx(G)\n",
    "\n",
    "nt.show('Apollo 17.html')"
   ]
  },
  {
   "cell_type": "code",
   "execution_count": null,
   "id": "2ed61331",
   "metadata": {},
   "outputs": [],
   "source": []
  },
  {
   "cell_type": "code",
   "execution_count": 237,
   "id": "faad6e80",
   "metadata": {},
   "outputs": [
    {
     "name": "stdout",
     "output_type": "stream",
     "text": [
      "Local cdn resources have problems on chrome/safari when used in jupyter-notebook. \n"
     ]
    },
    {
     "data": {
      "text/html": [
       "\n",
       "        <iframe\n",
       "            width=\"750px\"\n",
       "            height=\"1000px\"\n",
       "            src=\"tolkien.html\"\n",
       "            frameborder=\"0\"\n",
       "            allowfullscreen\n",
       "            \n",
       "        ></iframe>\n",
       "        "
      ],
      "text/plain": [
       "<IPython.lib.display.IFrame at 0x1b281d347c0>"
      ]
     },
     "execution_count": 237,
     "metadata": {},
     "output_type": "execute_result"
    }
   ],
   "source": [
    "testtext = \"\"\"John Ronald Reuel Tolkien CBE FRSL (/ˈruːl ˈtɒlkiːn/, ROOL TOL-keen;[a] 3 January 1892 – 2 September 1973) was an English writer and philologist. He was the author of the high fantasy works The Hobbit and The Lord of the Rings.\n",
    "\n",
    "From 1925 to 1945, Tolkien was the Rawlinson and Bosworth Professor of Anglo-Saxon and a Fellow of Pembroke College, both at the University of Oxford. He then moved within the same university to become the Merton Professor of English Language and Literature and Fellow of Merton College, and held these positions from 1945 until his retirement in 1959. Tolkien was a close friend of C. S. Lewis, a co-member of the informal literary discussion group The Inklings. He was appointed a Commander of the Order of the British Empire by Queen Elizabeth II on 28 March 1972.\"\"\"\n",
    "\n",
    "cleaned_text = clean_text(testtext)\n",
    "\n",
    "G = build_word_network(cleaned_text)\n",
    "\n",
    "nt = pyvis_from_nx(G)\n",
    "nt.show('tolkien.html')"
   ]
  },
  {
   "cell_type": "code",
   "execution_count": 241,
   "id": "64e2dfcd",
   "metadata": {},
   "outputs": [],
   "source": [
    "communities = nx.algorithms.community.label_propagation_communities(G)"
   ]
  },
  {
   "cell_type": "code",
   "execution_count": 244,
   "id": "d035e9e8",
   "metadata": {},
   "outputs": [
    {
     "ename": "AttributeError",
     "evalue": "'dict_values' object has no attribute 'values'",
     "output_type": "error",
     "traceback": [
      "\u001b[1;31m---------------------------------------------------------------------------\u001b[0m",
      "\u001b[1;31mAttributeError\u001b[0m                            Traceback (most recent call last)",
      "Cell \u001b[1;32mIn [244], line 1\u001b[0m\n\u001b[1;32m----> 1\u001b[0m \u001b[43mcommunities\u001b[49m\u001b[38;5;241;43m.\u001b[39;49m\u001b[43mvalues\u001b[49m()\n",
      "\u001b[1;31mAttributeError\u001b[0m: 'dict_values' object has no attribute 'values'"
     ]
    }
   ],
   "source": []
  },
  {
   "cell_type": "code",
   "execution_count": null,
   "id": "d7e4e3fb",
   "metadata": {},
   "outputs": [],
   "source": []
  },
  {
   "cell_type": "code",
   "execution_count": null,
   "id": "fedb08cc",
   "metadata": {},
   "outputs": [],
   "source": []
  },
  {
   "cell_type": "code",
   "execution_count": 217,
   "id": "ac2a48d9",
   "metadata": {},
   "outputs": [
    {
     "data": {
      "text/plain": [
       "{'john': 0.0,\n",
       " 'ronald': 0.000271370420624152,\n",
       " 'reuel': 0.0011985526910900043,\n",
       " 'tolkien': 0.5367360526528957,\n",
       " 'cbe': 0.0132066985330313,\n",
       " 'frsl': 0.029793040493490797,\n",
       " 'rul': 0.06722432473715587,\n",
       " 'tlkin': 0.0124537674431486,\n",
       " 'rool': 0.018720169502325912,\n",
       " 'tolkeena': 0.025041440925459568,\n",
       " '3': 0.008643724448593383,\n",
       " 'january': 0.008898057484669875,\n",
       " '1892': 0.00860341997934667,\n",
       " '2': 0.023735908356776338,\n",
       " 'september': 0.015565227776896706,\n",
       " '1973': 0.011245329285562903,\n",
       " 'english': 0.16865607711354275,\n",
       " 'writer': 0.010374543040757423,\n",
       " 'philologist': 0.012644565532054964,\n",
       " 'author': 0.015242264576128853,\n",
       " 'high': 0.007207713053484198,\n",
       " 'fantasy': 0.007310670724087828,\n",
       " 'work': 0.018442051744803446,\n",
       " 'hobbit': 0.018339171631792793,\n",
       " 'lord': 0.018446009391538735,\n",
       " 'ring': 0.05419372114618651,\n",
       " '1925': 0.026678295783636476,\n",
       " '1945': 0.07131854308205161,\n",
       " 'rawlinson': 0.010638918220329354,\n",
       " 'bosworth': 0.013890231152768245,\n",
       " 'professor': 0.22947967514054474,\n",
       " 'anglosaxon': 0.0017171619274740034,\n",
       " 'fellow': 0.021001316388019234,\n",
       " 'pembroke': 0.006284867369843078,\n",
       " 'college': 0.03907748410325289,\n",
       " 'university': 0.01842472600607371,\n",
       " 'oxford': 0.0008457043735198415,\n",
       " 'moved': 0.0012272578419118448,\n",
       " 'within': 0.0013284946120767013,\n",
       " 'become': 0.021247252071982286,\n",
       " 'merton': 0.03433494005556679,\n",
       " 'language': 0.0,\n",
       " 'literature': 0.0026018161194551965,\n",
       " 'held': 0.007362758013154076,\n",
       " 'position': 0.013610031032682558,\n",
       " 'retirement': 0.016710164367626908,\n",
       " '1959': 0.019955279391415826,\n",
       " 'close': 0.03365148119195506,\n",
       " 'friend': 0.08137589665887225,\n",
       " 'c': 0.27395380613261816,\n",
       " 'lewis': 0.047001473465534876,\n",
       " 'comember': 0.09839428167134735,\n",
       " 'informal': 0.20104334021673137,\n",
       " 'literary': 0.05302093769791913,\n",
       " 'discussion': 0.09497204495761598,\n",
       " 'group': 0.14722340120851946,\n",
       " 'inkling': 0.05157220136288392,\n",
       " 'appointed': 0.07980925637477732,\n",
       " 'commander': 0.10398076869195552,\n",
       " 'order': 0.04251029636453333,\n",
       " 'british': 0.05733207066086776,\n",
       " 'empire': 0.0670924068293185,\n",
       " 'queen': 0.025577785238590042,\n",
       " 'elizabeth': 0.030512099555847414,\n",
       " 'ii': 0.03552979676192433,\n",
       " '28': 0.0,\n",
       " 'march': 0.0,\n",
       " '1972': 0.0}"
      ]
     },
     "execution_count": 217,
     "metadata": {},
     "output_type": "execute_result"
    }
   ],
   "source": [
    "nx.betweenness_centrality(G, normalized = True, \n",
    "                                              endpoints = False)"
   ]
  },
  {
   "cell_type": "code",
   "execution_count": null,
   "id": "c7a16c1d",
   "metadata": {},
   "outputs": [],
   "source": []
  }
 ],
 "metadata": {
  "kernelspec": {
   "display_name": "nlp_swifter",
   "language": "python",
   "name": "nlp_swifter"
  },
  "language_info": {
   "codemirror_mode": {
    "name": "ipython",
    "version": 3
   },
   "file_extension": ".py",
   "mimetype": "text/x-python",
   "name": "python",
   "nbconvert_exporter": "python",
   "pygments_lexer": "ipython3",
   "version": "3.10.6"
  }
 },
 "nbformat": 4,
 "nbformat_minor": 5
}
