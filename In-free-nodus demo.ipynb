{
 "cells": [
  {
   "cell_type": "code",
   "execution_count": 1,
   "id": "8e2fa687",
   "metadata": {},
   "outputs": [],
   "source": [
    "from nlp_utils import *\n",
    "from network_utils import * "
   ]
  },
  {
   "cell_type": "code",
   "execution_count": 2,
   "id": "29e64170",
   "metadata": {},
   "outputs": [
    {
     "name": "stdout",
     "output_type": "stream",
     "text": [
      "Local cdn resources have problems on chrome/safari when used in jupyter-notebook. \n"
     ]
    },
    {
     "data": {
      "text/html": [
       "\n",
       "        <iframe\n",
       "            width=\"750px\"\n",
       "            height=\"1000px\"\n",
       "            src=\"RUS UKR Invasion 2022.html\"\n",
       "            frameborder=\"0\"\n",
       "            allowfullscreen\n",
       "            \n",
       "        ></iframe>\n",
       "        "
      ],
      "text/plain": [
       "<IPython.lib.display.IFrame at 0x1ac4444efb0>"
      ]
     },
     "execution_count": 2,
     "metadata": {},
     "output_type": "execute_result"
    }
   ],
   "source": [
    "testtext = \"\"\"On 24 February 2022, Russia invaded Ukraine in a major escalation of the Russo-Ukrainian War, which began in 2014. The invasion has likely resulted in tens of thousands of deaths on both sides and caused Europe's largest refugee crisis since World War II,[10][11] with an estimated 8 million people being displaced within the country by late May as well as 7.8 million Ukrainians fleeing the country as of 8 November 2022.[12][13][14][15] Within five weeks of the invasion, Russia experienced its greatest emigration since the 1917 October Revolution.[16] The invasion has also caused global food shortages.[17][18]\"\"\"\n",
    "cleaned_text = clean_text(testtext)\n",
    "G = build_word_network(cleaned_text)\n",
    "nt = pyvis_from_nx(G)\n",
    "nt.show('RUS UKR Invasion 2022.html')"
   ]
  },
  {
   "cell_type": "code",
   "execution_count": 3,
   "id": "2ddbead7",
   "metadata": {},
   "outputs": [
    {
     "name": "stdout",
     "output_type": "stream",
     "text": [
      "Local cdn resources have problems on chrome/safari when used in jupyter-notebook. \n"
     ]
    },
    {
     "data": {
      "text/html": [
       "\n",
       "        <iframe\n",
       "            width=\"750px\"\n",
       "            height=\"1000px\"\n",
       "            src=\"Apollo 17.html\"\n",
       "            frameborder=\"0\"\n",
       "            allowfullscreen\n",
       "            \n",
       "        ></iframe>\n",
       "        "
      ],
      "text/plain": [
       "<IPython.lib.display.IFrame at 0x1ac2b22eec0>"
      ]
     },
     "execution_count": 3,
     "metadata": {},
     "output_type": "execute_result"
    }
   ],
   "source": [
    "testtext = \"\"\"Apollo 17 (December 7–19, 1972) was the final mission of NASA's Apollo program, the most recent time humans have set foot on the Moon or traveled beyond low Earth orbit. Commander Gene Cernan and Lunar Module Pilot Harrison Schmitt walked on the Moon, while Command Module Pilot Ronald Evans orbited above. Schmitt was the only professional geologist to land on the Moon; he was selected in place of Joe Engle, as NASA had been under pressure to send a scientist to the Moon. The mission's heavy emphasis on science meant the inclusion of a number of new experiments, including a biological experiment containing five mice that was carried in the command module.\"\"\"\n",
    "cleaned_text = clean_text(testtext)\n",
    "G = build_word_network(cleaned_text)\n",
    "nt = pyvis_from_nx(G)\n",
    "nt.show('Apollo 17.html')"
   ]
  },
  {
   "cell_type": "code",
   "execution_count": 4,
   "id": "faad6e80",
   "metadata": {},
   "outputs": [
    {
     "name": "stdout",
     "output_type": "stream",
     "text": [
      "Local cdn resources have problems on chrome/safari when used in jupyter-notebook. \n"
     ]
    },
    {
     "data": {
      "text/html": [
       "\n",
       "        <iframe\n",
       "            width=\"750px\"\n",
       "            height=\"1000px\"\n",
       "            src=\"tolkien.html\"\n",
       "            frameborder=\"0\"\n",
       "            allowfullscreen\n",
       "            \n",
       "        ></iframe>\n",
       "        "
      ],
      "text/plain": [
       "<IPython.lib.display.IFrame at 0x1ac13a2dd80>"
      ]
     },
     "execution_count": 4,
     "metadata": {},
     "output_type": "execute_result"
    }
   ],
   "source": [
    "testtext = \"\"\"John Ronald Reuel Tolkien CBE FRSL (/ˈruːl ˈtɒlkiːn/, ROOL TOL-keen;[a] 3 January 1892 – 2 September 1973) was an English writer and philologist. He was the author of the high fantasy works The Hobbit and The Lord of the Rings.\n",
    "From 1925 to 1945, Tolkien was the Rawlinson and Bosworth Professor of Anglo-Saxon and a Fellow of Pembroke College, both at the University of Oxford. He then moved within the same university to become the Merton Professor of English Language and Literature and Fellow of Merton College, and held these positions from 1945 until his retirement in 1959. Tolkien was a close friend of C. S. Lewis, a co-member of the informal literary discussion group The Inklings. He was appointed a Commander of the Order of the British Empire by Queen Elizabeth II on 28 March 1972.\"\"\"\n",
    "cleaned_text = clean_text(testtext)\n",
    "G = build_word_network(cleaned_text)\n",
    "nt = pyvis_from_nx(G)\n",
    "nt.show('tolkien.html')"
   ]
  },
  {
   "cell_type": "code",
   "execution_count": null,
   "id": "c7a16c1d",
   "metadata": {},
   "outputs": [],
   "source": []
  }
 ],
 "metadata": {
  "kernelspec": {
   "display_name": "nlp_swifter",
   "language": "python",
   "name": "nlp_swifter"
  },
  "language_info": {
   "codemirror_mode": {
    "name": "ipython",
    "version": 3
   },
   "file_extension": ".py",
   "mimetype": "text/x-python",
   "name": "python",
   "nbconvert_exporter": "python",
   "pygments_lexer": "ipython3",
   "version": "3.10.6"
  }
 },
 "nbformat": 4,
 "nbformat_minor": 5
}
